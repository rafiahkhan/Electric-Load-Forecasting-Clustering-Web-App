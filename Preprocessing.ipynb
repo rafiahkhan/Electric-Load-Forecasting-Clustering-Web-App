{
 "cells": [
  {
   "cell_type": "code",
   "execution_count": 2,
   "id": "1fea99f6",
   "metadata": {},
   "outputs": [],
   "source": [
    "import pandas as pd\n",
    "import numpy as np\n",
    "from sklearn.preprocessing import RobustScaler\n",
    "from sklearn.ensemble import IsolationForest\n",
    "import matplotlib.pyplot as plt\n",
    "import seaborn as sns"
   ]
  },
  {
   "cell_type": "code",
   "execution_count": 3,
   "id": "54d8d693",
   "metadata": {},
   "outputs": [
    {
     "data": {
      "application/vnd.microsoft.datawrangler.viewer.v0+json": {
       "columns": [
        {
         "name": "index",
         "rawType": "int64",
         "type": "integer"
        },
        {
         "name": "summary",
         "rawType": "object",
         "type": "string"
        },
        {
         "name": "icon",
         "rawType": "object",
         "type": "string"
        },
        {
         "name": "precipIntensity",
         "rawType": "float64",
         "type": "float"
        },
        {
         "name": "precipProbability",
         "rawType": "float64",
         "type": "float"
        },
        {
         "name": "temperature",
         "rawType": "float64",
         "type": "float"
        },
        {
         "name": "apparentTemperature",
         "rawType": "float64",
         "type": "float"
        },
        {
         "name": "dewPoint",
         "rawType": "float64",
         "type": "float"
        },
        {
         "name": "humidity",
         "rawType": "float64",
         "type": "float"
        },
        {
         "name": "pressure",
         "rawType": "float64",
         "type": "float"
        },
        {
         "name": "windSpeed",
         "rawType": "float64",
         "type": "float"
        },
        {
         "name": "windGust",
         "rawType": "float64",
         "type": "float"
        },
        {
         "name": "windBearing",
         "rawType": "float64",
         "type": "float"
        },
        {
         "name": "cloudCover",
         "rawType": "float64",
         "type": "float"
        },
        {
         "name": "uvIndex",
         "rawType": "float64",
         "type": "float"
        },
        {
         "name": "visibility",
         "rawType": "float64",
         "type": "float"
        },
        {
         "name": "precipType",
         "rawType": "object",
         "type": "unknown"
        },
        {
         "name": "ozone",
         "rawType": "float64",
         "type": "float"
        },
        {
         "name": "precipAccumulation",
         "rawType": "float64",
         "type": "float"
        },
        {
         "name": "city",
         "rawType": "object",
         "type": "string"
        },
        {
         "name": "timestamp",
         "rawType": "object",
         "type": "string"
        },
        {
         "name": "demand_mwh",
         "rawType": "float64",
         "type": "float"
        }
       ],
       "conversionMethod": "pd.DataFrame",
       "ref": "636016e9-9f87-4fe7-a36e-2e0080fd60d3",
       "rows": [
        [
         "0",
         "Clear",
         "clear-night",
         "0.0",
         "0.0",
         "89.56",
         "91.71",
         "65.31",
         "0.45",
         "1011.9",
         "10.84",
         "12.4",
         "164.0",
         "0.06",
         "0.0",
         "9.617",
         null,
         null,
         null,
         "dallas",
         "2018-07-02 05:00:00",
         null
        ],
        [
         "1",
         "Clear",
         "clear-night",
         "0.0",
         "0.0",
         "89.56",
         "91.71",
         "65.31",
         "0.45",
         "1011.9",
         "10.84",
         "12.4",
         "164.0",
         "0.06",
         "0.0",
         "9.617",
         null,
         null,
         null,
         "dallas",
         "2018-07-02 05:00:00",
         "13839.7"
        ],
        [
         "2",
         "Clear",
         "clear-night",
         "0.0",
         "0.0",
         "89.56",
         "91.71",
         "65.31",
         "0.45",
         "1011.9",
         "10.84",
         "12.4",
         "164.0",
         "0.06",
         "0.0",
         "9.617",
         null,
         null,
         null,
         "dallas",
         "2018-07-02 05:00:00",
         "13839.7"
        ],
        [
         "3",
         "Clear",
         "clear-night",
         "0.0",
         "0.0",
         "89.56",
         "91.71",
         "65.31",
         "0.45",
         "1011.9",
         "10.84",
         "12.4",
         "164.0",
         "0.06",
         "0.0",
         "9.617",
         null,
         null,
         null,
         "dallas",
         "2018-07-02 05:00:00",
         "13839.7"
        ],
        [
         "4",
         "Clear",
         "clear-night",
         "0.0",
         "0.0",
         "88.35",
         "92.26",
         "68.29",
         "0.52",
         "1012.7",
         "9.94",
         "9.94",
         "179.0",
         "0.04",
         "0.0",
         "9.817",
         null,
         null,
         null,
         "dallas",
         "2018-07-02 06:00:00",
         null
        ]
       ],
       "shape": {
        "columns": 21,
        "rows": 5
       }
      },
      "text/html": [
       "<div>\n",
       "<style scoped>\n",
       "    .dataframe tbody tr th:only-of-type {\n",
       "        vertical-align: middle;\n",
       "    }\n",
       "\n",
       "    .dataframe tbody tr th {\n",
       "        vertical-align: top;\n",
       "    }\n",
       "\n",
       "    .dataframe thead th {\n",
       "        text-align: right;\n",
       "    }\n",
       "</style>\n",
       "<table border=\"1\" class=\"dataframe\">\n",
       "  <thead>\n",
       "    <tr style=\"text-align: right;\">\n",
       "      <th></th>\n",
       "      <th>summary</th>\n",
       "      <th>icon</th>\n",
       "      <th>precipIntensity</th>\n",
       "      <th>precipProbability</th>\n",
       "      <th>temperature</th>\n",
       "      <th>apparentTemperature</th>\n",
       "      <th>dewPoint</th>\n",
       "      <th>humidity</th>\n",
       "      <th>pressure</th>\n",
       "      <th>windSpeed</th>\n",
       "      <th>...</th>\n",
       "      <th>windBearing</th>\n",
       "      <th>cloudCover</th>\n",
       "      <th>uvIndex</th>\n",
       "      <th>visibility</th>\n",
       "      <th>precipType</th>\n",
       "      <th>ozone</th>\n",
       "      <th>precipAccumulation</th>\n",
       "      <th>city</th>\n",
       "      <th>timestamp</th>\n",
       "      <th>demand_mwh</th>\n",
       "    </tr>\n",
       "  </thead>\n",
       "  <tbody>\n",
       "    <tr>\n",
       "      <th>0</th>\n",
       "      <td>Clear</td>\n",
       "      <td>clear-night</td>\n",
       "      <td>0.0</td>\n",
       "      <td>0.0</td>\n",
       "      <td>89.56</td>\n",
       "      <td>91.71</td>\n",
       "      <td>65.31</td>\n",
       "      <td>0.45</td>\n",
       "      <td>1011.9</td>\n",
       "      <td>10.84</td>\n",
       "      <td>...</td>\n",
       "      <td>164.0</td>\n",
       "      <td>0.06</td>\n",
       "      <td>0.0</td>\n",
       "      <td>9.617</td>\n",
       "      <td>NaN</td>\n",
       "      <td>NaN</td>\n",
       "      <td>NaN</td>\n",
       "      <td>dallas</td>\n",
       "      <td>2018-07-02 05:00:00</td>\n",
       "      <td>NaN</td>\n",
       "    </tr>\n",
       "    <tr>\n",
       "      <th>1</th>\n",
       "      <td>Clear</td>\n",
       "      <td>clear-night</td>\n",
       "      <td>0.0</td>\n",
       "      <td>0.0</td>\n",
       "      <td>89.56</td>\n",
       "      <td>91.71</td>\n",
       "      <td>65.31</td>\n",
       "      <td>0.45</td>\n",
       "      <td>1011.9</td>\n",
       "      <td>10.84</td>\n",
       "      <td>...</td>\n",
       "      <td>164.0</td>\n",
       "      <td>0.06</td>\n",
       "      <td>0.0</td>\n",
       "      <td>9.617</td>\n",
       "      <td>NaN</td>\n",
       "      <td>NaN</td>\n",
       "      <td>NaN</td>\n",
       "      <td>dallas</td>\n",
       "      <td>2018-07-02 05:00:00</td>\n",
       "      <td>13839.7</td>\n",
       "    </tr>\n",
       "    <tr>\n",
       "      <th>2</th>\n",
       "      <td>Clear</td>\n",
       "      <td>clear-night</td>\n",
       "      <td>0.0</td>\n",
       "      <td>0.0</td>\n",
       "      <td>89.56</td>\n",
       "      <td>91.71</td>\n",
       "      <td>65.31</td>\n",
       "      <td>0.45</td>\n",
       "      <td>1011.9</td>\n",
       "      <td>10.84</td>\n",
       "      <td>...</td>\n",
       "      <td>164.0</td>\n",
       "      <td>0.06</td>\n",
       "      <td>0.0</td>\n",
       "      <td>9.617</td>\n",
       "      <td>NaN</td>\n",
       "      <td>NaN</td>\n",
       "      <td>NaN</td>\n",
       "      <td>dallas</td>\n",
       "      <td>2018-07-02 05:00:00</td>\n",
       "      <td>13839.7</td>\n",
       "    </tr>\n",
       "    <tr>\n",
       "      <th>3</th>\n",
       "      <td>Clear</td>\n",
       "      <td>clear-night</td>\n",
       "      <td>0.0</td>\n",
       "      <td>0.0</td>\n",
       "      <td>89.56</td>\n",
       "      <td>91.71</td>\n",
       "      <td>65.31</td>\n",
       "      <td>0.45</td>\n",
       "      <td>1011.9</td>\n",
       "      <td>10.84</td>\n",
       "      <td>...</td>\n",
       "      <td>164.0</td>\n",
       "      <td>0.06</td>\n",
       "      <td>0.0</td>\n",
       "      <td>9.617</td>\n",
       "      <td>NaN</td>\n",
       "      <td>NaN</td>\n",
       "      <td>NaN</td>\n",
       "      <td>dallas</td>\n",
       "      <td>2018-07-02 05:00:00</td>\n",
       "      <td>13839.7</td>\n",
       "    </tr>\n",
       "    <tr>\n",
       "      <th>4</th>\n",
       "      <td>Clear</td>\n",
       "      <td>clear-night</td>\n",
       "      <td>0.0</td>\n",
       "      <td>0.0</td>\n",
       "      <td>88.35</td>\n",
       "      <td>92.26</td>\n",
       "      <td>68.29</td>\n",
       "      <td>0.52</td>\n",
       "      <td>1012.7</td>\n",
       "      <td>9.94</td>\n",
       "      <td>...</td>\n",
       "      <td>179.0</td>\n",
       "      <td>0.04</td>\n",
       "      <td>0.0</td>\n",
       "      <td>9.817</td>\n",
       "      <td>NaN</td>\n",
       "      <td>NaN</td>\n",
       "      <td>NaN</td>\n",
       "      <td>dallas</td>\n",
       "      <td>2018-07-02 06:00:00</td>\n",
       "      <td>NaN</td>\n",
       "    </tr>\n",
       "  </tbody>\n",
       "</table>\n",
       "<p>5 rows × 21 columns</p>\n",
       "</div>"
      ],
      "text/plain": [
       "  summary         icon  precipIntensity  precipProbability  temperature  \\\n",
       "0   Clear  clear-night              0.0                0.0        89.56   \n",
       "1   Clear  clear-night              0.0                0.0        89.56   \n",
       "2   Clear  clear-night              0.0                0.0        89.56   \n",
       "3   Clear  clear-night              0.0                0.0        89.56   \n",
       "4   Clear  clear-night              0.0                0.0        88.35   \n",
       "\n",
       "   apparentTemperature  dewPoint  humidity  pressure  windSpeed  ...  \\\n",
       "0                91.71     65.31      0.45    1011.9      10.84  ...   \n",
       "1                91.71     65.31      0.45    1011.9      10.84  ...   \n",
       "2                91.71     65.31      0.45    1011.9      10.84  ...   \n",
       "3                91.71     65.31      0.45    1011.9      10.84  ...   \n",
       "4                92.26     68.29      0.52    1012.7       9.94  ...   \n",
       "\n",
       "   windBearing  cloudCover  uvIndex  visibility  precipType ozone  \\\n",
       "0        164.0        0.06      0.0       9.617         NaN   NaN   \n",
       "1        164.0        0.06      0.0       9.617         NaN   NaN   \n",
       "2        164.0        0.06      0.0       9.617         NaN   NaN   \n",
       "3        164.0        0.06      0.0       9.617         NaN   NaN   \n",
       "4        179.0        0.04      0.0       9.817         NaN   NaN   \n",
       "\n",
       "   precipAccumulation    city            timestamp demand_mwh  \n",
       "0                 NaN  dallas  2018-07-02 05:00:00        NaN  \n",
       "1                 NaN  dallas  2018-07-02 05:00:00    13839.7  \n",
       "2                 NaN  dallas  2018-07-02 05:00:00    13839.7  \n",
       "3                 NaN  dallas  2018-07-02 05:00:00    13839.7  \n",
       "4                 NaN  dallas  2018-07-02 06:00:00        NaN  \n",
       "\n",
       "[5 rows x 21 columns]"
      ]
     },
     "execution_count": 3,
     "metadata": {},
     "output_type": "execute_result"
    }
   ],
   "source": [
    "data = pd.read_csv('data/combined_data.csv')\n",
    "data.head()"
   ]
  },
  {
   "cell_type": "code",
   "execution_count": 4,
   "id": "632a173f",
   "metadata": {},
   "outputs": [
    {
     "name": "stdout",
     "output_type": "stream",
     "text": [
      "(342018, 21)\n",
      "<class 'pandas.core.frame.DataFrame'>\n",
      "RangeIndex: 342018 entries, 0 to 342017\n",
      "Data columns (total 21 columns):\n",
      " #   Column               Non-Null Count   Dtype  \n",
      "---  ------               --------------   -----  \n",
      " 0   summary              341469 non-null  object \n",
      " 1   icon                 341461 non-null  object \n",
      " 2   precipIntensity      341562 non-null  float64\n",
      " 3   precipProbability    341562 non-null  float64\n",
      " 4   temperature          341997 non-null  float64\n",
      " 5   apparentTemperature  341997 non-null  float64\n",
      " 6   dewPoint             342018 non-null  float64\n",
      " 7   humidity             341997 non-null  float64\n",
      " 8   pressure             341901 non-null  float64\n",
      " 9   windSpeed            341913 non-null  float64\n",
      " 10  windGust             341566 non-null  float64\n",
      " 11  windBearing          341905 non-null  float64\n",
      " 12  cloudCover           341532 non-null  float64\n",
      " 13  uvIndex              341671 non-null  float64\n",
      " 14  visibility           341680 non-null  float64\n",
      " 15  precipType           175552 non-null  object \n",
      " 16  ozone                299520 non-null  float64\n",
      " 17  precipAccumulation   2769 non-null    float64\n",
      " 18  city                 342018 non-null  object \n",
      " 19  timestamp            342018 non-null  object \n",
      " 20  demand_mwh           314206 non-null  float64\n",
      "dtypes: float64(16), object(5)\n",
      "memory usage: 54.8+ MB\n"
     ]
    }
   ],
   "source": [
    "print(data.shape)\n",
    "data.info()"
   ]
  },
  {
   "cell_type": "code",
   "execution_count": 5,
   "id": "ac2aa2db",
   "metadata": {},
   "outputs": [
    {
     "name": "stdout",
     "output_type": "stream",
     "text": [
      "Data Shape before dropping duplicates: (342018, 21)\n",
      "Data Shape after dropping duplicates: (165740, 21)\n"
     ]
    }
   ],
   "source": [
    "# Dropping duplicate rows\n",
    "print(\"Data Shape before dropping duplicates:\", data.shape)\n",
    "data = data.sort_values(['timestamp', 'city', 'demand_mwh'], na_position='first')\n",
    "data.drop_duplicates(subset=['timestamp', 'city'], keep='last', inplace=True)\n",
    "data.reset_index(drop=True, inplace=True)\n",
    "print(\"Data Shape after dropping duplicates:\", data.shape)"
   ]
  },
  {
   "cell_type": "code",
   "execution_count": 6,
   "id": "f56bf352",
   "metadata": {},
   "outputs": [
    {
     "name": "stdout",
     "output_type": "stream",
     "text": [
      "Data Shape after filtering columns: (165740, 8)\n"
     ]
    }
   ],
   "source": [
    "# Collecting the columns of interest only\n",
    "cols = ['timestamp','city','temperature','humidity','windSpeed', 'pressure', 'dewPoint', 'demand_mwh']\n",
    "avail = [c for c in cols if c in data.columns]\n",
    "data = data[avail]\n",
    "print(\"Data Shape after filtering columns:\", data.shape)"
   ]
  },
  {
   "cell_type": "code",
   "execution_count": 7,
   "id": "17a7236e",
   "metadata": {},
   "outputs": [
    {
     "name": "stdout",
     "output_type": "stream",
     "text": [
      "Percentage of missing values in each column:\n",
      "timestamp      0.000000\n",
      "city           0.000000\n",
      "temperature    0.006034\n",
      "humidity       0.006034\n",
      "windSpeed      0.031978\n",
      "pressure       0.030168\n",
      "dewPoint       0.000000\n",
      "demand_mwh     2.923253\n",
      "dtype: float64\n"
     ]
    }
   ],
   "source": [
    "# Checking for missing values\n",
    "missing_values = data.isnull().sum()\n",
    "missing_percentage = (missing_values / len(data)) * 100\n",
    "print(\"Percentage of missing values in each column:\")\n",
    "print(missing_percentage)"
   ]
  },
  {
   "cell_type": "code",
   "execution_count": 8,
   "id": "41005db3",
   "metadata": {},
   "outputs": [
    {
     "name": "stdout",
     "output_type": "stream",
     "text": [
      "Data Shape after dropping null values: (160804, 8)\n"
     ]
    }
   ],
   "source": [
    "# Approx 3% data is null so drop the rows with null values\n",
    "data.dropna(inplace=True)\n",
    "print(\"Data Shape after dropping null values:\", data.shape)"
   ]
  },
  {
   "cell_type": "code",
   "execution_count": 9,
   "id": "164508dd",
   "metadata": {},
   "outputs": [
    {
     "data": {
      "text/plain": [
       "timestamp      0\n",
       "city           0\n",
       "temperature    0\n",
       "humidity       0\n",
       "windSpeed      0\n",
       "pressure       0\n",
       "dewPoint       0\n",
       "demand_mwh     0\n",
       "dtype: int64"
      ]
     },
     "execution_count": 9,
     "metadata": {},
     "output_type": "execute_result"
    }
   ],
   "source": [
    "data.isna().sum()"
   ]
  },
  {
   "cell_type": "code",
   "execution_count": 10,
   "id": "48112ce1",
   "metadata": {},
   "outputs": [
    {
     "data": {
      "text/plain": [
       "timestamp       object\n",
       "city            object\n",
       "temperature    float64\n",
       "humidity       float64\n",
       "windSpeed      float64\n",
       "pressure       float64\n",
       "dewPoint       float64\n",
       "demand_mwh     float64\n",
       "dtype: object"
      ]
     },
     "execution_count": 10,
     "metadata": {},
     "output_type": "execute_result"
    }
   ],
   "source": [
    "data.dtypes"
   ]
  },
  {
   "cell_type": "code",
   "execution_count": 11,
   "id": "be4dd07d",
   "metadata": {},
   "outputs": [
    {
     "data": {
      "text/plain": [
       "0        2018-07-01 07:00:00\n",
       "1        2018-07-01 07:00:00\n",
       "2        2018-07-01 07:00:00\n",
       "3        2018-07-01 07:00:00\n",
       "4        2018-07-01 07:00:00\n",
       "                 ...        \n",
       "165080   2020-05-19 23:00:00\n",
       "165084   2020-05-20 00:00:00\n",
       "165085   2020-05-20 00:00:00\n",
       "165089   2020-05-20 00:00:00\n",
       "165090   2020-05-20 00:00:00\n",
       "Name: timestamp, Length: 160804, dtype: datetime64[ns]"
      ]
     },
     "execution_count": 11,
     "metadata": {},
     "output_type": "execute_result"
    }
   ],
   "source": [
    "data['timestamp'] = pd.to_datetime(data['timestamp'])\n",
    "data['timestamp']"
   ]
  },
  {
   "cell_type": "markdown",
   "id": "d68440e6",
   "metadata": {},
   "source": [
    "Preprocessing"
   ]
  },
  {
   "cell_type": "code",
   "execution_count": 12,
   "id": "f2b63462",
   "metadata": {},
   "outputs": [],
   "source": [
    "# Extract hour, day of week, and month, season from the timestamp\n",
    "data['hour'] = data['timestamp'].dt.hour\n",
    "data['day_of_week'] = data['timestamp'].dt.dayofweek\n",
    "data['month'] = data['timestamp'].dt.month\n",
    "data['season'] = data['timestamp'].dt.month % 12 // 3 + 1\n",
    "data['season'] = data['season'].map({1: 'Winter', 2: 'Spring', 3: 'Summer', 4: 'Fall'})\n",
    "data['season'] = data['season'].astype('category')"
   ]
  },
  {
   "cell_type": "code",
   "execution_count": 13,
   "id": "3081cb7b",
   "metadata": {},
   "outputs": [
    {
     "data": {
      "application/vnd.microsoft.datawrangler.viewer.v0+json": {
       "columns": [
        {
         "name": "index",
         "rawType": "int64",
         "type": "integer"
        },
        {
         "name": "timestamp",
         "rawType": "datetime64[ns]",
         "type": "datetime"
        },
        {
         "name": "city",
         "rawType": "object",
         "type": "string"
        },
        {
         "name": "temperature",
         "rawType": "float64",
         "type": "float"
        },
        {
         "name": "humidity",
         "rawType": "float64",
         "type": "float"
        },
        {
         "name": "windSpeed",
         "rawType": "float64",
         "type": "float"
        },
        {
         "name": "pressure",
         "rawType": "float64",
         "type": "float"
        },
        {
         "name": "dewPoint",
         "rawType": "float64",
         "type": "float"
        },
        {
         "name": "demand_mwh",
         "rawType": "float64",
         "type": "float"
        },
        {
         "name": "hour",
         "rawType": "int32",
         "type": "integer"
        },
        {
         "name": "day_of_week",
         "rawType": "int32",
         "type": "integer"
        },
        {
         "name": "month",
         "rawType": "int32",
         "type": "integer"
        },
        {
         "name": "season",
         "rawType": "category",
         "type": "unknown"
        }
       ],
       "conversionMethod": "pd.DataFrame",
       "ref": "b386bd10-2e41-4a49-b325-bf7095109e72",
       "rows": [
        [
         "0",
         "2018-07-01 07:00:00",
         "la",
         "65.45",
         "0.79",
         "4.23",
         "1014.5",
         "58.64",
         "9353.0",
         "7",
         "6",
         "7",
         "Summer"
        ],
        [
         "1",
         "2018-07-01 07:00:00",
         "phoenix",
         "86.82",
         "0.16",
         "4.3",
         "1008.9",
         "34.57",
         "2764.0",
         "7",
         "6",
         "7",
         "Summer"
        ],
        [
         "2",
         "2018-07-01 07:00:00",
         "san diego",
         "61.71",
         "0.8",
         "3.53",
         "1015.9",
         "55.47",
         "1737.0",
         "7",
         "6",
         "7",
         "Summer"
        ],
        [
         "3",
         "2018-07-01 07:00:00",
         "san jose",
         "67.78",
         "0.6000000000000001",
         "6.36",
         "1012.8",
         "53.27",
         "10653.0",
         "7",
         "6",
         "7",
         "Summer"
        ],
        [
         "4",
         "2018-07-01 07:00:00",
         "seattle",
         "59.32",
         "0.86",
         "4.8100000000000005",
         "1022.1",
         "55.21",
         "774.0",
         "7",
         "6",
         "7",
         "Summer"
        ]
       ],
       "shape": {
        "columns": 12,
        "rows": 5
       }
      },
      "text/html": [
       "<div>\n",
       "<style scoped>\n",
       "    .dataframe tbody tr th:only-of-type {\n",
       "        vertical-align: middle;\n",
       "    }\n",
       "\n",
       "    .dataframe tbody tr th {\n",
       "        vertical-align: top;\n",
       "    }\n",
       "\n",
       "    .dataframe thead th {\n",
       "        text-align: right;\n",
       "    }\n",
       "</style>\n",
       "<table border=\"1\" class=\"dataframe\">\n",
       "  <thead>\n",
       "    <tr style=\"text-align: right;\">\n",
       "      <th></th>\n",
       "      <th>timestamp</th>\n",
       "      <th>city</th>\n",
       "      <th>temperature</th>\n",
       "      <th>humidity</th>\n",
       "      <th>windSpeed</th>\n",
       "      <th>pressure</th>\n",
       "      <th>dewPoint</th>\n",
       "      <th>demand_mwh</th>\n",
       "      <th>hour</th>\n",
       "      <th>day_of_week</th>\n",
       "      <th>month</th>\n",
       "      <th>season</th>\n",
       "    </tr>\n",
       "  </thead>\n",
       "  <tbody>\n",
       "    <tr>\n",
       "      <th>0</th>\n",
       "      <td>2018-07-01 07:00:00</td>\n",
       "      <td>la</td>\n",
       "      <td>65.45</td>\n",
       "      <td>0.79</td>\n",
       "      <td>4.23</td>\n",
       "      <td>1014.5</td>\n",
       "      <td>58.64</td>\n",
       "      <td>9353.0</td>\n",
       "      <td>7</td>\n",
       "      <td>6</td>\n",
       "      <td>7</td>\n",
       "      <td>Summer</td>\n",
       "    </tr>\n",
       "    <tr>\n",
       "      <th>1</th>\n",
       "      <td>2018-07-01 07:00:00</td>\n",
       "      <td>phoenix</td>\n",
       "      <td>86.82</td>\n",
       "      <td>0.16</td>\n",
       "      <td>4.30</td>\n",
       "      <td>1008.9</td>\n",
       "      <td>34.57</td>\n",
       "      <td>2764.0</td>\n",
       "      <td>7</td>\n",
       "      <td>6</td>\n",
       "      <td>7</td>\n",
       "      <td>Summer</td>\n",
       "    </tr>\n",
       "    <tr>\n",
       "      <th>2</th>\n",
       "      <td>2018-07-01 07:00:00</td>\n",
       "      <td>san diego</td>\n",
       "      <td>61.71</td>\n",
       "      <td>0.80</td>\n",
       "      <td>3.53</td>\n",
       "      <td>1015.9</td>\n",
       "      <td>55.47</td>\n",
       "      <td>1737.0</td>\n",
       "      <td>7</td>\n",
       "      <td>6</td>\n",
       "      <td>7</td>\n",
       "      <td>Summer</td>\n",
       "    </tr>\n",
       "    <tr>\n",
       "      <th>3</th>\n",
       "      <td>2018-07-01 07:00:00</td>\n",
       "      <td>san jose</td>\n",
       "      <td>67.78</td>\n",
       "      <td>0.60</td>\n",
       "      <td>6.36</td>\n",
       "      <td>1012.8</td>\n",
       "      <td>53.27</td>\n",
       "      <td>10653.0</td>\n",
       "      <td>7</td>\n",
       "      <td>6</td>\n",
       "      <td>7</td>\n",
       "      <td>Summer</td>\n",
       "    </tr>\n",
       "    <tr>\n",
       "      <th>4</th>\n",
       "      <td>2018-07-01 07:00:00</td>\n",
       "      <td>seattle</td>\n",
       "      <td>59.32</td>\n",
       "      <td>0.86</td>\n",
       "      <td>4.81</td>\n",
       "      <td>1022.1</td>\n",
       "      <td>55.21</td>\n",
       "      <td>774.0</td>\n",
       "      <td>7</td>\n",
       "      <td>6</td>\n",
       "      <td>7</td>\n",
       "      <td>Summer</td>\n",
       "    </tr>\n",
       "  </tbody>\n",
       "</table>\n",
       "</div>"
      ],
      "text/plain": [
       "            timestamp       city  temperature  humidity  windSpeed  pressure  \\\n",
       "0 2018-07-01 07:00:00         la        65.45      0.79       4.23    1014.5   \n",
       "1 2018-07-01 07:00:00    phoenix        86.82      0.16       4.30    1008.9   \n",
       "2 2018-07-01 07:00:00  san diego        61.71      0.80       3.53    1015.9   \n",
       "3 2018-07-01 07:00:00   san jose        67.78      0.60       6.36    1012.8   \n",
       "4 2018-07-01 07:00:00    seattle        59.32      0.86       4.81    1022.1   \n",
       "\n",
       "   dewPoint  demand_mwh  hour  day_of_week  month  season  \n",
       "0     58.64      9353.0     7            6      7  Summer  \n",
       "1     34.57      2764.0     7            6      7  Summer  \n",
       "2     55.47      1737.0     7            6      7  Summer  \n",
       "3     53.27     10653.0     7            6      7  Summer  \n",
       "4     55.21       774.0     7            6      7  Summer  "
      ]
     },
     "execution_count": 13,
     "metadata": {},
     "output_type": "execute_result"
    }
   ],
   "source": [
    "data.head()"
   ]
  },
  {
   "cell_type": "code",
   "execution_count": 14,
   "id": "f2653227",
   "metadata": {},
   "outputs": [
    {
     "data": {
      "application/vnd.microsoft.datawrangler.viewer.v0+json": {
       "columns": [
        {
         "name": "timestamp",
         "rawType": "datetime64[ns]",
         "type": "datetime"
        },
        {
         "name": "city",
         "rawType": "object",
         "type": "string"
        },
        {
         "name": "temperature",
         "rawType": "float64",
         "type": "float"
        },
        {
         "name": "humidity",
         "rawType": "float64",
         "type": "float"
        },
        {
         "name": "windSpeed",
         "rawType": "float64",
         "type": "float"
        },
        {
         "name": "pressure",
         "rawType": "float64",
         "type": "float"
        },
        {
         "name": "dewPoint",
         "rawType": "float64",
         "type": "float"
        },
        {
         "name": "demand_mwh",
         "rawType": "float64",
         "type": "float"
        },
        {
         "name": "hour",
         "rawType": "int32",
         "type": "integer"
        },
        {
         "name": "day_of_week",
         "rawType": "int32",
         "type": "integer"
        },
        {
         "name": "month",
         "rawType": "int32",
         "type": "integer"
        },
        {
         "name": "season",
         "rawType": "category",
         "type": "unknown"
        }
       ],
       "conversionMethod": "pd.DataFrame",
       "ref": "94ea55cc-fe02-44b0-9fe3-62396dee6665",
       "rows": [
        [
         "2018-07-01 07:00:00",
         "la",
         "65.45",
         "0.79",
         "4.23",
         "1014.5",
         "58.64",
         "9353.0",
         "7",
         "6",
         "7",
         "Summer"
        ],
        [
         "2018-07-01 07:00:00",
         "phoenix",
         "86.82",
         "0.16",
         "4.3",
         "1008.9",
         "34.57",
         "2764.0",
         "7",
         "6",
         "7",
         "Summer"
        ],
        [
         "2018-07-01 07:00:00",
         "san diego",
         "61.71",
         "0.8",
         "3.53",
         "1015.9",
         "55.47",
         "1737.0",
         "7",
         "6",
         "7",
         "Summer"
        ],
        [
         "2018-07-01 07:00:00",
         "san jose",
         "67.78",
         "0.6000000000000001",
         "6.36",
         "1012.8",
         "53.27",
         "10653.0",
         "7",
         "6",
         "7",
         "Summer"
        ],
        [
         "2018-07-01 07:00:00",
         "seattle",
         "59.32",
         "0.86",
         "4.8100000000000005",
         "1022.1",
         "55.21",
         "774.0",
         "7",
         "6",
         "7",
         "Summer"
        ]
       ],
       "shape": {
        "columns": 11,
        "rows": 5
       }
      },
      "text/html": [
       "<div>\n",
       "<style scoped>\n",
       "    .dataframe tbody tr th:only-of-type {\n",
       "        vertical-align: middle;\n",
       "    }\n",
       "\n",
       "    .dataframe tbody tr th {\n",
       "        vertical-align: top;\n",
       "    }\n",
       "\n",
       "    .dataframe thead th {\n",
       "        text-align: right;\n",
       "    }\n",
       "</style>\n",
       "<table border=\"1\" class=\"dataframe\">\n",
       "  <thead>\n",
       "    <tr style=\"text-align: right;\">\n",
       "      <th></th>\n",
       "      <th>city</th>\n",
       "      <th>temperature</th>\n",
       "      <th>humidity</th>\n",
       "      <th>windSpeed</th>\n",
       "      <th>pressure</th>\n",
       "      <th>dewPoint</th>\n",
       "      <th>demand_mwh</th>\n",
       "      <th>hour</th>\n",
       "      <th>day_of_week</th>\n",
       "      <th>month</th>\n",
       "      <th>season</th>\n",
       "    </tr>\n",
       "    <tr>\n",
       "      <th>timestamp</th>\n",
       "      <th></th>\n",
       "      <th></th>\n",
       "      <th></th>\n",
       "      <th></th>\n",
       "      <th></th>\n",
       "      <th></th>\n",
       "      <th></th>\n",
       "      <th></th>\n",
       "      <th></th>\n",
       "      <th></th>\n",
       "      <th></th>\n",
       "    </tr>\n",
       "  </thead>\n",
       "  <tbody>\n",
       "    <tr>\n",
       "      <th>2018-07-01 07:00:00</th>\n",
       "      <td>la</td>\n",
       "      <td>65.45</td>\n",
       "      <td>0.79</td>\n",
       "      <td>4.23</td>\n",
       "      <td>1014.5</td>\n",
       "      <td>58.64</td>\n",
       "      <td>9353.0</td>\n",
       "      <td>7</td>\n",
       "      <td>6</td>\n",
       "      <td>7</td>\n",
       "      <td>Summer</td>\n",
       "    </tr>\n",
       "    <tr>\n",
       "      <th>2018-07-01 07:00:00</th>\n",
       "      <td>phoenix</td>\n",
       "      <td>86.82</td>\n",
       "      <td>0.16</td>\n",
       "      <td>4.30</td>\n",
       "      <td>1008.9</td>\n",
       "      <td>34.57</td>\n",
       "      <td>2764.0</td>\n",
       "      <td>7</td>\n",
       "      <td>6</td>\n",
       "      <td>7</td>\n",
       "      <td>Summer</td>\n",
       "    </tr>\n",
       "    <tr>\n",
       "      <th>2018-07-01 07:00:00</th>\n",
       "      <td>san diego</td>\n",
       "      <td>61.71</td>\n",
       "      <td>0.80</td>\n",
       "      <td>3.53</td>\n",
       "      <td>1015.9</td>\n",
       "      <td>55.47</td>\n",
       "      <td>1737.0</td>\n",
       "      <td>7</td>\n",
       "      <td>6</td>\n",
       "      <td>7</td>\n",
       "      <td>Summer</td>\n",
       "    </tr>\n",
       "    <tr>\n",
       "      <th>2018-07-01 07:00:00</th>\n",
       "      <td>san jose</td>\n",
       "      <td>67.78</td>\n",
       "      <td>0.60</td>\n",
       "      <td>6.36</td>\n",
       "      <td>1012.8</td>\n",
       "      <td>53.27</td>\n",
       "      <td>10653.0</td>\n",
       "      <td>7</td>\n",
       "      <td>6</td>\n",
       "      <td>7</td>\n",
       "      <td>Summer</td>\n",
       "    </tr>\n",
       "    <tr>\n",
       "      <th>2018-07-01 07:00:00</th>\n",
       "      <td>seattle</td>\n",
       "      <td>59.32</td>\n",
       "      <td>0.86</td>\n",
       "      <td>4.81</td>\n",
       "      <td>1022.1</td>\n",
       "      <td>55.21</td>\n",
       "      <td>774.0</td>\n",
       "      <td>7</td>\n",
       "      <td>6</td>\n",
       "      <td>7</td>\n",
       "      <td>Summer</td>\n",
       "    </tr>\n",
       "  </tbody>\n",
       "</table>\n",
       "</div>"
      ],
      "text/plain": [
       "                          city  temperature  humidity  windSpeed  pressure  \\\n",
       "timestamp                                                                    \n",
       "2018-07-01 07:00:00         la        65.45      0.79       4.23    1014.5   \n",
       "2018-07-01 07:00:00    phoenix        86.82      0.16       4.30    1008.9   \n",
       "2018-07-01 07:00:00  san diego        61.71      0.80       3.53    1015.9   \n",
       "2018-07-01 07:00:00   san jose        67.78      0.60       6.36    1012.8   \n",
       "2018-07-01 07:00:00    seattle        59.32      0.86       4.81    1022.1   \n",
       "\n",
       "                     dewPoint  demand_mwh  hour  day_of_week  month  season  \n",
       "timestamp                                                                    \n",
       "2018-07-01 07:00:00     58.64      9353.0     7            6      7  Summer  \n",
       "2018-07-01 07:00:00     34.57      2764.0     7            6      7  Summer  \n",
       "2018-07-01 07:00:00     55.47      1737.0     7            6      7  Summer  \n",
       "2018-07-01 07:00:00     53.27     10653.0     7            6      7  Summer  \n",
       "2018-07-01 07:00:00     55.21       774.0     7            6      7  Summer  "
      ]
     },
     "execution_count": 14,
     "metadata": {},
     "output_type": "execute_result"
    }
   ],
   "source": [
    "data.set_index('timestamp', inplace=True)\n",
    "data.head()"
   ]
  },
  {
   "cell_type": "code",
   "execution_count": 15,
   "id": "971e3d35",
   "metadata": {},
   "outputs": [
    {
     "data": {
      "application/vnd.microsoft.datawrangler.viewer.v0+json": {
       "columns": [
        {
         "name": "index",
         "rawType": "object",
         "type": "string"
        },
        {
         "name": "temperature",
         "rawType": "float64",
         "type": "float"
        },
        {
         "name": "humidity",
         "rawType": "float64",
         "type": "float"
        },
        {
         "name": "windSpeed",
         "rawType": "float64",
         "type": "float"
        },
        {
         "name": "pressure",
         "rawType": "float64",
         "type": "float"
        },
        {
         "name": "dewPoint",
         "rawType": "float64",
         "type": "float"
        },
        {
         "name": "demand_mwh",
         "rawType": "float64",
         "type": "float"
        },
        {
         "name": "hour",
         "rawType": "float64",
         "type": "float"
        },
        {
         "name": "day_of_week",
         "rawType": "float64",
         "type": "float"
        },
        {
         "name": "month",
         "rawType": "float64",
         "type": "float"
        }
       ],
       "conversionMethod": "pd.DataFrame",
       "ref": "cfcff69e-7f91-4c58-8fa9-923a969ea6af",
       "rows": [
        [
         "count",
         "160804.0",
         "160804.0",
         "160804.0",
         "160804.0",
         "160804.0",
         "160804.0",
         "160804.0",
         "160804.0",
         "160804.0"
        ],
        [
         "mean",
         "62.912315551851954",
         "0.6538402651675331",
         "5.8741233427029185",
         "1016.2525111315638",
         "49.0273551031069",
         "7247.385813226038",
         "11.499527374940921",
         "2.991144498893062",
         "6.5651351956419"
        ],
        [
         "std",
         "15.805638098861154",
         "0.21775797826602405",
         "3.477174993914924",
         "6.156387105551322",
         "15.671625140968947",
         "4753.517545213444",
         "6.9251663998774715",
         "1.9995077063166158",
         "3.573092916673285"
        ],
        [
         "min",
         "3.58",
         "0.0",
         "0.0",
         "976.8",
         "-63.64",
         "-1340.0",
         "0.0",
         "0.0",
         "1.0"
        ],
        [
         "25%",
         "51.84",
         "0.5",
         "3.22",
         "1012.4",
         "38.4",
         "3053.0",
         "5.0",
         "1.0",
         "3.0"
        ],
        [
         "50%",
         "62.46",
         "0.6900000000000001",
         "5.06",
         "1015.6",
         "49.92",
         "6201.0",
         "11.0",
         "3.0",
         "7.0"
        ],
        [
         "75%",
         "74.09",
         "0.8300000000000001",
         "7.81",
         "1019.8",
         "60.38",
         "10853.0",
         "18.0",
         "5.0",
         "10.0"
        ],
        [
         "max",
         "114.03",
         "1.0",
         "27.3",
         "1042.1",
         "82.06",
         "101412.0",
         "23.0",
         "6.0",
         "12.0"
        ]
       ],
       "shape": {
        "columns": 9,
        "rows": 8
       }
      },
      "text/html": [
       "<div>\n",
       "<style scoped>\n",
       "    .dataframe tbody tr th:only-of-type {\n",
       "        vertical-align: middle;\n",
       "    }\n",
       "\n",
       "    .dataframe tbody tr th {\n",
       "        vertical-align: top;\n",
       "    }\n",
       "\n",
       "    .dataframe thead th {\n",
       "        text-align: right;\n",
       "    }\n",
       "</style>\n",
       "<table border=\"1\" class=\"dataframe\">\n",
       "  <thead>\n",
       "    <tr style=\"text-align: right;\">\n",
       "      <th></th>\n",
       "      <th>temperature</th>\n",
       "      <th>humidity</th>\n",
       "      <th>windSpeed</th>\n",
       "      <th>pressure</th>\n",
       "      <th>dewPoint</th>\n",
       "      <th>demand_mwh</th>\n",
       "      <th>hour</th>\n",
       "      <th>day_of_week</th>\n",
       "      <th>month</th>\n",
       "    </tr>\n",
       "  </thead>\n",
       "  <tbody>\n",
       "    <tr>\n",
       "      <th>count</th>\n",
       "      <td>160804.000000</td>\n",
       "      <td>160804.000000</td>\n",
       "      <td>160804.000000</td>\n",
       "      <td>160804.000000</td>\n",
       "      <td>160804.000000</td>\n",
       "      <td>160804.000000</td>\n",
       "      <td>160804.000000</td>\n",
       "      <td>160804.000000</td>\n",
       "      <td>160804.000000</td>\n",
       "    </tr>\n",
       "    <tr>\n",
       "      <th>mean</th>\n",
       "      <td>62.912316</td>\n",
       "      <td>0.653840</td>\n",
       "      <td>5.874123</td>\n",
       "      <td>1016.252511</td>\n",
       "      <td>49.027355</td>\n",
       "      <td>7247.385813</td>\n",
       "      <td>11.499527</td>\n",
       "      <td>2.991144</td>\n",
       "      <td>6.565135</td>\n",
       "    </tr>\n",
       "    <tr>\n",
       "      <th>std</th>\n",
       "      <td>15.805638</td>\n",
       "      <td>0.217758</td>\n",
       "      <td>3.477175</td>\n",
       "      <td>6.156387</td>\n",
       "      <td>15.671625</td>\n",
       "      <td>4753.517545</td>\n",
       "      <td>6.925166</td>\n",
       "      <td>1.999508</td>\n",
       "      <td>3.573093</td>\n",
       "    </tr>\n",
       "    <tr>\n",
       "      <th>min</th>\n",
       "      <td>3.580000</td>\n",
       "      <td>0.000000</td>\n",
       "      <td>0.000000</td>\n",
       "      <td>976.800000</td>\n",
       "      <td>-63.640000</td>\n",
       "      <td>-1340.000000</td>\n",
       "      <td>0.000000</td>\n",
       "      <td>0.000000</td>\n",
       "      <td>1.000000</td>\n",
       "    </tr>\n",
       "    <tr>\n",
       "      <th>25%</th>\n",
       "      <td>51.840000</td>\n",
       "      <td>0.500000</td>\n",
       "      <td>3.220000</td>\n",
       "      <td>1012.400000</td>\n",
       "      <td>38.400000</td>\n",
       "      <td>3053.000000</td>\n",
       "      <td>5.000000</td>\n",
       "      <td>1.000000</td>\n",
       "      <td>3.000000</td>\n",
       "    </tr>\n",
       "    <tr>\n",
       "      <th>50%</th>\n",
       "      <td>62.460000</td>\n",
       "      <td>0.690000</td>\n",
       "      <td>5.060000</td>\n",
       "      <td>1015.600000</td>\n",
       "      <td>49.920000</td>\n",
       "      <td>6201.000000</td>\n",
       "      <td>11.000000</td>\n",
       "      <td>3.000000</td>\n",
       "      <td>7.000000</td>\n",
       "    </tr>\n",
       "    <tr>\n",
       "      <th>75%</th>\n",
       "      <td>74.090000</td>\n",
       "      <td>0.830000</td>\n",
       "      <td>7.810000</td>\n",
       "      <td>1019.800000</td>\n",
       "      <td>60.380000</td>\n",
       "      <td>10853.000000</td>\n",
       "      <td>18.000000</td>\n",
       "      <td>5.000000</td>\n",
       "      <td>10.000000</td>\n",
       "    </tr>\n",
       "    <tr>\n",
       "      <th>max</th>\n",
       "      <td>114.030000</td>\n",
       "      <td>1.000000</td>\n",
       "      <td>27.300000</td>\n",
       "      <td>1042.100000</td>\n",
       "      <td>82.060000</td>\n",
       "      <td>101412.000000</td>\n",
       "      <td>23.000000</td>\n",
       "      <td>6.000000</td>\n",
       "      <td>12.000000</td>\n",
       "    </tr>\n",
       "  </tbody>\n",
       "</table>\n",
       "</div>"
      ],
      "text/plain": [
       "         temperature       humidity      windSpeed       pressure  \\\n",
       "count  160804.000000  160804.000000  160804.000000  160804.000000   \n",
       "mean       62.912316       0.653840       5.874123    1016.252511   \n",
       "std        15.805638       0.217758       3.477175       6.156387   \n",
       "min         3.580000       0.000000       0.000000     976.800000   \n",
       "25%        51.840000       0.500000       3.220000    1012.400000   \n",
       "50%        62.460000       0.690000       5.060000    1015.600000   \n",
       "75%        74.090000       0.830000       7.810000    1019.800000   \n",
       "max       114.030000       1.000000      27.300000    1042.100000   \n",
       "\n",
       "            dewPoint     demand_mwh           hour    day_of_week  \\\n",
       "count  160804.000000  160804.000000  160804.000000  160804.000000   \n",
       "mean       49.027355    7247.385813      11.499527       2.991144   \n",
       "std        15.671625    4753.517545       6.925166       1.999508   \n",
       "min       -63.640000   -1340.000000       0.000000       0.000000   \n",
       "25%        38.400000    3053.000000       5.000000       1.000000   \n",
       "50%        49.920000    6201.000000      11.000000       3.000000   \n",
       "75%        60.380000   10853.000000      18.000000       5.000000   \n",
       "max        82.060000  101412.000000      23.000000       6.000000   \n",
       "\n",
       "               month  \n",
       "count  160804.000000  \n",
       "mean        6.565135  \n",
       "std         3.573093  \n",
       "min         1.000000  \n",
       "25%         3.000000  \n",
       "50%         7.000000  \n",
       "75%        10.000000  \n",
       "max        12.000000  "
      ]
     },
     "execution_count": 15,
     "metadata": {},
     "output_type": "execute_result"
    }
   ],
   "source": [
    "data.describe()"
   ]
  },
  {
   "cell_type": "code",
   "execution_count": 16,
   "id": "943cccd8",
   "metadata": {},
   "outputs": [
    {
     "data": {
      "image/png": "[encoded data removed]",
      "text/plain": [
       "<Figure size 2000x1000 with 1 Axes>"
      ]
     },
     "metadata": {},
     "output_type": "display_data"
    }
   ],
   "source": [
    "# Check outliers in all columns\n",
    "plt.figure(figsize=(20, 10))\n",
    "sns.boxplot(data=data.drop('demand_mwh', axis=1), orient='h')\n",
    "plt.title('Boxplot of all features')\n",
    "plt.show()"
   ]
  },
  {
   "cell_type": "markdown",
   "id": "405533e9",
   "metadata": {},
   "source": [
    "Anamoly and error Detection"
   ]
  },
  {
   "cell_type": "code",
   "execution_count": 17,
   "id": "27d8da9f",
   "metadata": {},
   "outputs": [
    {
     "data": {
      "text/plain": [
       "Index(['city', 'temperature', 'humidity', 'windSpeed', 'pressure', 'dewPoint',\n",
       "       'demand_mwh', 'hour', 'day_of_week', 'month', 'season'],\n",
       "      dtype='object')"
      ]
     },
     "execution_count": 17,
     "metadata": {},
     "output_type": "execute_result"
    }
   ],
   "source": [
    "data.columns"
   ]
  },
  {
   "cell_type": "code",
   "execution_count": 18,
   "id": "b8ec4ecf",
   "metadata": {},
   "outputs": [],
   "source": [
    "iso_model = IsolationForest(contamination=0.01, random_state=42)\n",
    "data['anomaly'] = iso_model.fit_predict(data[['temperature', 'humidity', 'windSpeed', 'pressure', 'dewPoint']])\n"
   ]
  },
  {
   "cell_type": "code",
   "execution_count": 19,
   "id": "e7160e8a",
   "metadata": {},
   "outputs": [
    {
     "data": {
      "text/plain": [
       "anomaly\n",
       " 1    159195\n",
       "-1      1609\n",
       "Name: count, dtype: int64"
      ]
     },
     "execution_count": 19,
     "metadata": {},
     "output_type": "execute_result"
    }
   ],
   "source": [
    "data['anomaly'].value_counts()"
   ]
  },
  {
   "cell_type": "markdown",
   "id": "9c574e68",
   "metadata": {},
   "source": [
    "Interpolating anamolies with median"
   ]
  },
  {
   "cell_type": "code",
   "execution_count": 20,
   "id": "79f04af3",
   "metadata": {},
   "outputs": [
    {
     "name": "stderr",
     "output_type": "stream",
     "text": [
      "/tmp/ipykernel_10728/3108380180.py:6: FutureWarning: A value is trying to be set on a copy of a DataFrame or Series through chained assignment using an inplace method.\n",
      "The behavior will change in pandas 3.0. This inplace method will never work because the intermediate object on which we are setting values always behaves as a copy.\n",
      "\n",
      "For example, when doing 'df[col].method(value, inplace=True)', try using 'df.method({col: value}, inplace=True)' or df[col] = df[col].method(value) instead, to perform the operation inplace on the original object.\n",
      "\n",
      "\n",
      "  data[col].fillna(medd, inplace=True)\n",
      "/tmp/ipykernel_10728/3108380180.py:6: FutureWarning: A value is trying to be set on a copy of a DataFrame or Series through chained assignment using an inplace method.\n",
      "The behavior will change in pandas 3.0. This inplace method will never work because the intermediate object on which we are setting values always behaves as a copy.\n",
      "\n",
      "For example, when doing 'df[col].method(value, inplace=True)', try using 'df.method({col: value}, inplace=True)' or df[col] = df[col].method(value) instead, to perform the operation inplace on the original object.\n",
      "\n",
      "\n",
      "  data[col].fillna(medd, inplace=True)\n",
      "/tmp/ipykernel_10728/3108380180.py:6: FutureWarning: A value is trying to be set on a copy of a DataFrame or Series through chained assignment using an inplace method.\n",
      "The behavior will change in pandas 3.0. This inplace method will never work because the intermediate object on which we are setting values always behaves as a copy.\n",
      "\n",
      "For example, when doing 'df[col].method(value, inplace=True)', try using 'df.method({col: value}, inplace=True)' or df[col] = df[col].method(value) instead, to perform the operation inplace on the original object.\n",
      "\n",
      "\n",
      "  data[col].fillna(medd, inplace=True)\n",
      "/tmp/ipykernel_10728/3108380180.py:6: FutureWarning: A value is trying to be set on a copy of a DataFrame or Series through chained assignment using an inplace method.\n",
      "The behavior will change in pandas 3.0. This inplace method will never work because the intermediate object on which we are setting values always behaves as a copy.\n",
      "\n",
      "For example, when doing 'df[col].method(value, inplace=True)', try using 'df.method({col: value}, inplace=True)' or df[col] = df[col].method(value) instead, to perform the operation inplace on the original object.\n",
      "\n",
      "\n",
      "  data[col].fillna(medd, inplace=True)\n",
      "/tmp/ipykernel_10728/3108380180.py:6: FutureWarning: A value is trying to be set on a copy of a DataFrame or Series through chained assignment using an inplace method.\n",
      "The behavior will change in pandas 3.0. This inplace method will never work because the intermediate object on which we are setting values always behaves as a copy.\n",
      "\n",
      "For example, when doing 'df[col].method(value, inplace=True)', try using 'df.method({col: value}, inplace=True)' or df[col] = df[col].method(value) instead, to perform the operation inplace on the original object.\n",
      "\n",
      "\n",
      "  data[col].fillna(medd, inplace=True)\n"
     ]
    }
   ],
   "source": [
    "anomalous_rows = data['anomaly'] == -1\n",
    "features_cols = ['temperature', 'humidity', 'windSpeed', 'pressure', 'dewPoint']\n",
    "data.loc[anomalous_rows, features_cols] = np.nan \n",
    "for col in features_cols:\n",
    "    medd = data[col].median()\n",
    "    data[col].fillna(medd, inplace=True)\n"
   ]
  },
  {
   "cell_type": "code",
   "execution_count": 21,
   "id": "2aa9eba1",
   "metadata": {},
   "outputs": [],
   "source": [
    "# Drop anaomaly column\n",
    "data.drop('anomaly', axis=1, inplace=True)"
   ]
  },
  {
   "cell_type": "code",
   "execution_count": 22,
   "id": "b6c1e79d",
   "metadata": {},
   "outputs": [
    {
     "data": {
      "application/vnd.microsoft.datawrangler.viewer.v0+json": {
       "columns": [
        {
         "name": "index",
         "rawType": "int64",
         "type": "integer"
        },
        {
         "name": "timestamp",
         "rawType": "datetime64[ns]",
         "type": "datetime"
        },
        {
         "name": "city",
         "rawType": "object",
         "type": "string"
        },
        {
         "name": "temp_mean",
         "rawType": "float64",
         "type": "float"
        },
        {
         "name": "hum_mean",
         "rawType": "float64",
         "type": "float"
        },
        {
         "name": "wind_mean",
         "rawType": "float64",
         "type": "float"
        },
        {
         "name": "demand_sum",
         "rawType": "float64",
         "type": "float"
        },
        {
         "name": "demand_mean",
         "rawType": "float64",
         "type": "float"
        }
       ],
       "conversionMethod": "pd.DataFrame",
       "ref": "bf8f8c44-2e74-45ff-8219-90ff16e933ca",
       "rows": [
        [
         "0",
         "2018-07-01 00:00:00",
         "la",
         "69.01882352941176",
         "0.6776470588235294",
         "4.138235294117647",
         "209005.0",
         "12294.411764705883"
        ],
        [
         "1",
         "2018-07-01 00:00:00",
         "phoenix",
         "87.09",
         "0.13999999999999999",
         "3.3570588235294117",
         "72914.0",
         "4289.058823529412"
        ],
        [
         "2",
         "2018-07-01 00:00:00",
         "san diego",
         "65.68058823529412",
         "0.721764705882353",
         "5.027647058823529",
         "31713.0",
         "1865.4705882352941"
        ],
        [
         "3",
         "2018-07-01 00:00:00",
         "san jose",
         "69.9735294117647",
         "0.6158823529411765",
         "5.289411764705882",
         "230370.0",
         "13551.176470588236"
        ],
        [
         "4",
         "2018-07-01 00:00:00",
         "seattle",
         "59.63764705882353",
         "0.8664705882352941",
         "4.45235294117647",
         "16062.0",
         "944.8235294117648"
        ],
        [
         "5",
         "2018-07-08 00:00:00",
         "dallas",
         "86.56337423312884",
         "0.5682822085889571",
         "6.5696319018404905",
         "2830777.96",
         "17366.735950920247"
        ],
        [
         "6",
         "2018-07-08 00:00:00",
         "houston",
         "81.62588957055215",
         "0.7542331288343558",
         "4.3579754601227",
         "2219675.07",
         "13617.638466257667"
        ],
        [
         "7",
         "2018-07-08 00:00:00",
         "la",
         "78.04910714285714",
         "0.5103571428571428",
         "5.0460714285714285",
         "2475925.0",
         "14737.64880952381"
        ],
        [
         "8",
         "2018-07-08 00:00:00",
         "nyc",
         "77.86506097560977",
         "0.6975609756097562",
         "6.9105487804878045",
         "1270418.0",
         "7746.451219512195"
        ],
        [
         "9",
         "2018-07-08 00:00:00",
         "philadelphia",
         "79.22591463414633",
         "0.6666463414634146",
         "4.198475609756097",
         "914155.0",
         "5574.115853658536"
        ],
        [
         "10",
         "2018-07-08 00:00:00",
         "phoenix",
         "96.8514880952381",
         "0.1705952380952381",
         "3.889940476190476",
         "815253.0",
         "4852.696428571428"
        ],
        [
         "11",
         "2018-07-08 00:00:00",
         "san antonio",
         "82.91429447852761",
         "0.6941717791411043",
         "6.376073619631901",
         "1319107.08",
         "8092.681472392638"
        ],
        [
         "12",
         "2018-07-08 00:00:00",
         "san diego",
         "72.88470238095238",
         "0.6441071428571429",
         "5.355833333333333",
         "425167.0",
         "2530.7559523809523"
        ],
        [
         "13",
         "2018-07-08 00:00:00",
         "san jose",
         "69.7995238095238",
         "0.5701785714285714",
         "6.223630952380952",
         "2162208.0",
         "12870.285714285714"
        ],
        [
         "14",
         "2018-07-08 00:00:00",
         "seattle",
         "65.1372619047619",
         "0.6461904761904762",
         "4.592499999999999",
         "160284.0",
         "954.0714285714286"
        ],
        [
         "15",
         "2018-07-15 00:00:00",
         "dallas",
         "84.62208333333334",
         "0.641904761904762",
         "6.069226190476191",
         "2850351.28",
         "16966.376666666667"
        ],
        [
         "16",
         "2018-07-15 00:00:00",
         "houston",
         "84.13904761904762",
         "0.7229166666666667",
         "3.666845238095238",
         "2438785.58",
         "14516.580833333333"
        ],
        [
         "17",
         "2018-07-15 00:00:00",
         "la",
         "78.32809523809524",
         "0.5720833333333333",
         "4.819642857142857",
         "2675290.0",
         "15924.345238095239"
        ],
        [
         "18",
         "2018-07-15 00:00:00",
         "nyc",
         "77.23583333333333",
         "0.6101190476190477",
         "7.013809523809523",
         "1236510.0",
         "7360.178571428572"
        ],
        [
         "19",
         "2018-07-15 00:00:00",
         "philadelphia",
         "77.25",
         "0.46",
         "3.98",
         "3603.0",
         "3603.0"
        ],
        [
         "20",
         "2018-07-15 00:00:00",
         "phoenix",
         "88.23619047619047",
         "0.4924404761904762",
         "3.525119047619048",
         "725677.0",
         "4319.505952380952"
        ],
        [
         "21",
         "2018-07-15 00:00:00",
         "san antonio",
         "82.96285714285715",
         "0.6917261904761905",
         "7.880416666666667",
         "1370465.28",
         "8157.5314285714285"
        ],
        [
         "22",
         "2018-07-15 00:00:00",
         "san diego",
         "73.90869047619047",
         "0.729107142857143",
         "5.043511904761904",
         "459179.0",
         "2733.2083333333335"
        ],
        [
         "23",
         "2018-07-15 00:00:00",
         "san jose",
         "72.13642857142857",
         "0.5495833333333333",
         "5.8150595238095235",
         "2404249.0",
         "14311.005952380952"
        ],
        [
         "24",
         "2018-07-15 00:00:00",
         "seattle",
         "68.80011904761905",
         "0.6178571428571429",
         "4.65625",
         "171359.0",
         "1019.9940476190476"
        ],
        [
         "25",
         "2018-07-22 00:00:00",
         "dallas",
         "93.914125",
         "0.40862499999999996",
         "7.4931875",
         "3169494.61",
         "19809.3413125"
        ],
        [
         "26",
         "2018-07-22 00:00:00",
         "houston",
         "86.6344375",
         "0.6923125",
         "7.0000625",
         "2495573.16",
         "15597.332250000001"
        ],
        [
         "27",
         "2018-07-22 00:00:00",
         "la",
         "75.0103144654088",
         "0.6596855345911949",
         "4.966603773584906",
         "2453406.0",
         "15430.22641509434"
        ],
        [
         "28",
         "2018-07-22 00:00:00",
         "nyc",
         "75.7134375",
         "0.684625",
         "8.93575",
         "1171030.0",
         "7318.9375"
        ],
        [
         "29",
         "2018-07-22 00:00:00",
         "phoenix",
         "93.092875",
         "0.3865",
         "4.0433125",
         "767913.0",
         "4799.45625"
        ],
        [
         "30",
         "2018-07-22 00:00:00",
         "san antonio",
         "86.9745",
         "0.607625",
         "8.1789375",
         "1448907.67",
         "9055.6729375"
        ],
        [
         "31",
         "2018-07-22 00:00:00",
         "san diego",
         "71.84666666666668",
         "0.7524528301886793",
         "5.224779874213836",
         "413532.0",
         "2600.830188679245"
        ],
        [
         "32",
         "2018-07-22 00:00:00",
         "san jose",
         "71.9393710691824",
         "0.6166666666666667",
         "5.427672955974843",
         "2309337.0",
         "14524.132075471698"
        ],
        [
         "33",
         "2018-07-22 00:00:00",
         "seattle",
         "67.3100625",
         "0.6100000000000001",
         "4.366687499999999",
         "162359.0",
         "1014.74375"
        ],
        [
         "34",
         "2018-07-29 00:00:00",
         "dallas",
         "91.51751773049645",
         "0.39347517730496456",
         "5.492269503546099",
         "2643720.62",
         "18749.791631205673"
        ],
        [
         "35",
         "2018-07-29 00:00:00",
         "houston",
         "87.43652482269503",
         "0.6012765957446808",
         "4.91886524822695",
         "2215756.71",
         "15714.58659574468"
        ],
        [
         "36",
         "2018-07-29 00:00:00",
         "la",
         "79.25521472392639",
         "0.5928220858895705",
         "4.457668711656442",
         "2745447.0",
         "16843.233128834356"
        ],
        [
         "37",
         "2018-07-29 00:00:00",
         "nyc",
         "76.87957055214724",
         "0.8123312883435583",
         "9.343496932515338",
         "1246920.0",
         "7649.815950920245"
        ],
        [
         "38",
         "2018-07-29 00:00:00",
         "phoenix",
         "98.87466257668711",
         "0.25349693251533745",
         "3.8082208588957056",
         "862056.0",
         "5288.687116564417"
        ],
        [
         "39",
         "2018-07-29 00:00:00",
         "san antonio",
         "87.64921428571428",
         "0.5212142857142857",
         "5.644857142857143",
         "1282784.61",
         "9162.747214285715"
        ],
        [
         "40",
         "2018-07-29 00:00:00",
         "san diego",
         "74.67705521472394",
         "0.7346625766871165",
         "4.681472392638037",
         "466361.0",
         "2861.1104294478528"
        ],
        [
         "41",
         "2018-07-29 00:00:00",
         "san jose",
         "70.80932098765433",
         "0.598641975308642",
         "5.945308641975308",
         "2362634.0",
         "14584.160493827161"
        ],
        [
         "42",
         "2018-07-29 00:00:00",
         "seattle",
         "73.05185185185185",
         "0.556358024691358",
         "4.188395061728395",
         "173888.0",
         "1073.3827160493827"
        ],
        [
         "43",
         "2018-08-05 00:00:00",
         "dallas",
         "84.79232142857143",
         "0.4644642857142857",
         "6.6344642857142855",
         "2816848.11",
         "16766.953035714287"
        ],
        [
         "44",
         "2018-08-05 00:00:00",
         "houston",
         "84.04440476190476",
         "0.6732738095238096",
         "4.701130952380952",
         "2440516.08",
         "14526.881428571429"
        ],
        [
         "45",
         "2018-08-05 00:00:00",
         "la",
         "78.91178571428571",
         "0.5466071428571428",
         "4.591785714285714",
         "2769654.0",
         "16486.035714285714"
        ],
        [
         "46",
         "2018-08-05 00:00:00",
         "nyc",
         "78.37511904761905",
         "0.7513095238095238",
         "6.794464285714286",
         "1314787.0",
         "7826.113095238095"
        ],
        [
         "47",
         "2018-08-05 00:00:00",
         "phoenix",
         "96.1882738095238",
         "0.32666666666666666",
         "3.4642261904761904",
         "858912.0",
         "5112.571428571428"
        ],
        [
         "48",
         "2018-08-05 00:00:00",
         "san antonio",
         "84.91692771084337",
         "0.5620481927710843",
         "6.662831325301204",
         "1413303.92",
         "8513.879036144577"
        ],
        [
         "49",
         "2018-08-05 00:00:00",
         "san diego",
         "76.45767857142857",
         "0.7080357142857143",
         "4.449940476190476",
         "497611.0",
         "2961.970238095238"
        ]
       ],
       "shape": {
        "columns": 7,
        "rows": 978
       }
      },
      "text/html": [
       "<div>\n",
       "<style scoped>\n",
       "    .dataframe tbody tr th:only-of-type {\n",
       "        vertical-align: middle;\n",
       "    }\n",
       "\n",
       "    .dataframe tbody tr th {\n",
       "        vertical-align: top;\n",
       "    }\n",
       "\n",
       "    .dataframe thead th {\n",
       "        text-align: right;\n",
       "    }\n",
       "</style>\n",
       "<table border=\"1\" class=\"dataframe\">\n",
       "  <thead>\n",
       "    <tr style=\"text-align: right;\">\n",
       "      <th></th>\n",
       "      <th>timestamp</th>\n",
       "      <th>city</th>\n",
       "      <th>temp_mean</th>\n",
       "      <th>hum_mean</th>\n",
       "      <th>wind_mean</th>\n",
       "      <th>demand_sum</th>\n",
       "      <th>demand_mean</th>\n",
       "    </tr>\n",
       "  </thead>\n",
       "  <tbody>\n",
       "    <tr>\n",
       "      <th>0</th>\n",
       "      <td>2018-07-01</td>\n",
       "      <td>la</td>\n",
       "      <td>69.018824</td>\n",
       "      <td>0.677647</td>\n",
       "      <td>4.138235</td>\n",
       "      <td>209005.0</td>\n",
       "      <td>12294.411765</td>\n",
       "    </tr>\n",
       "    <tr>\n",
       "      <th>1</th>\n",
       "      <td>2018-07-01</td>\n",
       "      <td>phoenix</td>\n",
       "      <td>87.090000</td>\n",
       "      <td>0.140000</td>\n",
       "      <td>3.357059</td>\n",
       "      <td>72914.0</td>\n",
       "      <td>4289.058824</td>\n",
       "    </tr>\n",
       "    <tr>\n",
       "      <th>2</th>\n",
       "      <td>2018-07-01</td>\n",
       "      <td>san diego</td>\n",
       "      <td>65.680588</td>\n",
       "      <td>0.721765</td>\n",
       "      <td>5.027647</td>\n",
       "      <td>31713.0</td>\n",
       "      <td>1865.470588</td>\n",
       "    </tr>\n",
       "    <tr>\n",
       "      <th>3</th>\n",
       "      <td>2018-07-01</td>\n",
       "      <td>san jose</td>\n",
       "      <td>69.973529</td>\n",
       "      <td>0.615882</td>\n",
       "      <td>5.289412</td>\n",
       "      <td>230370.0</td>\n",
       "      <td>13551.176471</td>\n",
       "    </tr>\n",
       "    <tr>\n",
       "      <th>4</th>\n",
       "      <td>2018-07-01</td>\n",
       "      <td>seattle</td>\n",
       "      <td>59.637647</td>\n",
       "      <td>0.866471</td>\n",
       "      <td>4.452353</td>\n",
       "      <td>16062.0</td>\n",
       "      <td>944.823529</td>\n",
       "    </tr>\n",
       "    <tr>\n",
       "      <th>...</th>\n",
       "      <td>...</td>\n",
       "      <td>...</td>\n",
       "      <td>...</td>\n",
       "      <td>...</td>\n",
       "      <td>...</td>\n",
       "      <td>...</td>\n",
       "      <td>...</td>\n",
       "    </tr>\n",
       "    <tr>\n",
       "      <th>973</th>\n",
       "      <td>2020-05-24</td>\n",
       "      <td>nyc</td>\n",
       "      <td>59.770408</td>\n",
       "      <td>0.585714</td>\n",
       "      <td>11.291633</td>\n",
       "      <td>215558.0</td>\n",
       "      <td>4399.142857</td>\n",
       "    </tr>\n",
       "    <tr>\n",
       "      <th>974</th>\n",
       "      <td>2020-05-24</td>\n",
       "      <td>philadelphia</td>\n",
       "      <td>60.945600</td>\n",
       "      <td>0.639600</td>\n",
       "      <td>8.653600</td>\n",
       "      <td>85439.0</td>\n",
       "      <td>3417.560000</td>\n",
       "    </tr>\n",
       "    <tr>\n",
       "      <th>975</th>\n",
       "      <td>2020-05-24</td>\n",
       "      <td>san antonio</td>\n",
       "      <td>80.392000</td>\n",
       "      <td>0.622800</td>\n",
       "      <td>5.544400</td>\n",
       "      <td>184901.0</td>\n",
       "      <td>7396.040000</td>\n",
       "    </tr>\n",
       "    <tr>\n",
       "      <th>976</th>\n",
       "      <td>2020-05-24</td>\n",
       "      <td>san diego</td>\n",
       "      <td>65.990612</td>\n",
       "      <td>0.678367</td>\n",
       "      <td>6.572653</td>\n",
       "      <td>81673.0</td>\n",
       "      <td>1666.795918</td>\n",
       "    </tr>\n",
       "    <tr>\n",
       "      <th>977</th>\n",
       "      <td>2020-05-24</td>\n",
       "      <td>san jose</td>\n",
       "      <td>60.146122</td>\n",
       "      <td>0.651020</td>\n",
       "      <td>6.535306</td>\n",
       "      <td>493300.0</td>\n",
       "      <td>10067.346939</td>\n",
       "    </tr>\n",
       "  </tbody>\n",
       "</table>\n",
       "<p>978 rows × 7 columns</p>\n",
       "</div>"
      ],
      "text/plain": [
       "     timestamp          city  temp_mean  hum_mean  wind_mean  demand_sum  \\\n",
       "0   2018-07-01            la  69.018824  0.677647   4.138235    209005.0   \n",
       "1   2018-07-01       phoenix  87.090000  0.140000   3.357059     72914.0   \n",
       "2   2018-07-01     san diego  65.680588  0.721765   5.027647     31713.0   \n",
       "3   2018-07-01      san jose  69.973529  0.615882   5.289412    230370.0   \n",
       "4   2018-07-01       seattle  59.637647  0.866471   4.452353     16062.0   \n",
       "..         ...           ...        ...       ...        ...         ...   \n",
       "973 2020-05-24           nyc  59.770408  0.585714  11.291633    215558.0   \n",
       "974 2020-05-24  philadelphia  60.945600  0.639600   8.653600     85439.0   \n",
       "975 2020-05-24   san antonio  80.392000  0.622800   5.544400    184901.0   \n",
       "976 2020-05-24     san diego  65.990612  0.678367   6.572653     81673.0   \n",
       "977 2020-05-24      san jose  60.146122  0.651020   6.535306    493300.0   \n",
       "\n",
       "      demand_mean  \n",
       "0    12294.411765  \n",
       "1     4289.058824  \n",
       "2     1865.470588  \n",
       "3    13551.176471  \n",
       "4      944.823529  \n",
       "..            ...  \n",
       "973   4399.142857  \n",
       "974   3417.560000  \n",
       "975   7396.040000  \n",
       "976   1666.795918  \n",
       "977  10067.346939  \n",
       "\n",
       "[978 rows x 7 columns]"
      ]
     },
     "execution_count": 22,
     "metadata": {},
     "output_type": "execute_result"
    }
   ],
   "source": [
    "# Aggregation: Compute weekly summary statistics\n",
    "\n",
    "weekly_summary = data.groupby([pd.Grouper(freq='W'), 'city']).agg(\n",
    "    temp_mean=('temperature', 'mean'),\n",
    "    hum_mean=('humidity', 'mean'),\n",
    "    wind_mean=('windSpeed', 'mean'),\n",
    "    demand_sum=('demand_mwh', 'sum'),\n",
    "    demand_mean=('demand_mwh', 'mean')\n",
    ").reset_index()\n",
    "weekly_summary"
   ]
  },
  {
   "cell_type": "code",
   "execution_count": 23,
   "id": "b216f32d",
   "metadata": {},
   "outputs": [],
   "source": [
    "weekly_summary.to_csv('data/weekly_summary.csv', index=False)"
   ]
  },
  {
   "cell_type": "code",
   "execution_count": 26,
   "id": "4fc8ddc2",
   "metadata": {},
   "outputs": [
    {
     "data": {
      "application/vnd.microsoft.datawrangler.viewer.v0+json": {
       "columns": [
        {
         "name": "timestamp",
         "rawType": "datetime64[ns]",
         "type": "datetime"
        },
        {
         "name": "city",
         "rawType": "object",
         "type": "string"
        },
        {
         "name": "temperature",
         "rawType": "float64",
         "type": "float"
        },
        {
         "name": "humidity",
         "rawType": "float64",
         "type": "float"
        },
        {
         "name": "windSpeed",
         "rawType": "float64",
         "type": "float"
        },
        {
         "name": "pressure",
         "rawType": "float64",
         "type": "float"
        },
        {
         "name": "dewPoint",
         "rawType": "float64",
         "type": "float"
        },
        {
         "name": "demand_mwh",
         "rawType": "float64",
         "type": "float"
        },
        {
         "name": "hour",
         "rawType": "int32",
         "type": "integer"
        },
        {
         "name": "day_of_week",
         "rawType": "int32",
         "type": "integer"
        },
        {
         "name": "month",
         "rawType": "int32",
         "type": "integer"
        },
        {
         "name": "season",
         "rawType": "category",
         "type": "unknown"
        }
       ],
       "conversionMethod": "pd.DataFrame",
       "ref": "ad5e7fae-85a3-4a42-b7a7-a67b047870fb",
       "rows": [
        [
         "2018-07-01 07:00:00",
         "la",
         "65.45",
         "0.79",
         "4.23",
         "1014.5",
         "58.64",
         "9353.0",
         "7",
         "6",
         "7",
         "Summer"
        ],
        [
         "2018-07-01 07:00:00",
         "phoenix",
         "86.82",
         "0.16",
         "4.3",
         "1008.9",
         "34.57",
         "2764.0",
         "7",
         "6",
         "7",
         "Summer"
        ],
        [
         "2018-07-01 07:00:00",
         "san diego",
         "61.71",
         "0.8",
         "3.53",
         "1015.9",
         "55.47",
         "1737.0",
         "7",
         "6",
         "7",
         "Summer"
        ],
        [
         "2018-07-01 07:00:00",
         "san jose",
         "67.78",
         "0.6000000000000001",
         "6.36",
         "1012.8",
         "53.27",
         "10653.0",
         "7",
         "6",
         "7",
         "Summer"
        ],
        [
         "2018-07-01 07:00:00",
         "seattle",
         "59.32",
         "0.86",
         "4.8100000000000005",
         "1022.1",
         "55.21",
         "774.0",
         "7",
         "6",
         "7",
         "Summer"
        ]
       ],
       "shape": {
        "columns": 11,
        "rows": 5
       }
      },
      "text/html": [
       "<div>\n",
       "<style scoped>\n",
       "    .dataframe tbody tr th:only-of-type {\n",
       "        vertical-align: middle;\n",
       "    }\n",
       "\n",
       "    .dataframe tbody tr th {\n",
       "        vertical-align: top;\n",
       "    }\n",
       "\n",
       "    .dataframe thead th {\n",
       "        text-align: right;\n",
       "    }\n",
       "</style>\n",
       "<table border=\"1\" class=\"dataframe\">\n",
       "  <thead>\n",
       "    <tr style=\"text-align: right;\">\n",
       "      <th></th>\n",
       "      <th>city</th>\n",
       "      <th>temperature</th>\n",
       "      <th>humidity</th>\n",
       "      <th>windSpeed</th>\n",
       "      <th>pressure</th>\n",
       "      <th>dewPoint</th>\n",
       "      <th>demand_mwh</th>\n",
       "      <th>hour</th>\n",
       "      <th>day_of_week</th>\n",
       "      <th>month</th>\n",
       "      <th>season</th>\n",
       "    </tr>\n",
       "    <tr>\n",
       "      <th>timestamp</th>\n",
       "      <th></th>\n",
       "      <th></th>\n",
       "      <th></th>\n",
       "      <th></th>\n",
       "      <th></th>\n",
       "      <th></th>\n",
       "      <th></th>\n",
       "      <th></th>\n",
       "      <th></th>\n",
       "      <th></th>\n",
       "      <th></th>\n",
       "    </tr>\n",
       "  </thead>\n",
       "  <tbody>\n",
       "    <tr>\n",
       "      <th>2018-07-01 07:00:00</th>\n",
       "      <td>la</td>\n",
       "      <td>65.45</td>\n",
       "      <td>0.79</td>\n",
       "      <td>4.23</td>\n",
       "      <td>1014.5</td>\n",
       "      <td>58.64</td>\n",
       "      <td>9353.0</td>\n",
       "      <td>7</td>\n",
       "      <td>6</td>\n",
       "      <td>7</td>\n",
       "      <td>Summer</td>\n",
       "    </tr>\n",
       "    <tr>\n",
       "      <th>2018-07-01 07:00:00</th>\n",
       "      <td>phoenix</td>\n",
       "      <td>86.82</td>\n",
       "      <td>0.16</td>\n",
       "      <td>4.30</td>\n",
       "      <td>1008.9</td>\n",
       "      <td>34.57</td>\n",
       "      <td>2764.0</td>\n",
       "      <td>7</td>\n",
       "      <td>6</td>\n",
       "      <td>7</td>\n",
       "      <td>Summer</td>\n",
       "    </tr>\n",
       "    <tr>\n",
       "      <th>2018-07-01 07:00:00</th>\n",
       "      <td>san diego</td>\n",
       "      <td>61.71</td>\n",
       "      <td>0.80</td>\n",
       "      <td>3.53</td>\n",
       "      <td>1015.9</td>\n",
       "      <td>55.47</td>\n",
       "      <td>1737.0</td>\n",
       "      <td>7</td>\n",
       "      <td>6</td>\n",
       "      <td>7</td>\n",
       "      <td>Summer</td>\n",
       "    </tr>\n",
       "    <tr>\n",
       "      <th>2018-07-01 07:00:00</th>\n",
       "      <td>san jose</td>\n",
       "      <td>67.78</td>\n",
       "      <td>0.60</td>\n",
       "      <td>6.36</td>\n",
       "      <td>1012.8</td>\n",
       "      <td>53.27</td>\n",
       "      <td>10653.0</td>\n",
       "      <td>7</td>\n",
       "      <td>6</td>\n",
       "      <td>7</td>\n",
       "      <td>Summer</td>\n",
       "    </tr>\n",
       "    <tr>\n",
       "      <th>2018-07-01 07:00:00</th>\n",
       "      <td>seattle</td>\n",
       "      <td>59.32</td>\n",
       "      <td>0.86</td>\n",
       "      <td>4.81</td>\n",
       "      <td>1022.1</td>\n",
       "      <td>55.21</td>\n",
       "      <td>774.0</td>\n",
       "      <td>7</td>\n",
       "      <td>6</td>\n",
       "      <td>7</td>\n",
       "      <td>Summer</td>\n",
       "    </tr>\n",
       "  </tbody>\n",
       "</table>\n",
       "</div>"
      ],
      "text/plain": [
       "                          city  temperature  humidity  windSpeed  pressure  \\\n",
       "timestamp                                                                    \n",
       "2018-07-01 07:00:00         la        65.45      0.79       4.23    1014.5   \n",
       "2018-07-01 07:00:00    phoenix        86.82      0.16       4.30    1008.9   \n",
       "2018-07-01 07:00:00  san diego        61.71      0.80       3.53    1015.9   \n",
       "2018-07-01 07:00:00   san jose        67.78      0.60       6.36    1012.8   \n",
       "2018-07-01 07:00:00    seattle        59.32      0.86       4.81    1022.1   \n",
       "\n",
       "                     dewPoint  demand_mwh  hour  day_of_week  month  season  \n",
       "timestamp                                                                    \n",
       "2018-07-01 07:00:00     58.64      9353.0     7            6      7  Summer  \n",
       "2018-07-01 07:00:00     34.57      2764.0     7            6      7  Summer  \n",
       "2018-07-01 07:00:00     55.47      1737.0     7            6      7  Summer  \n",
       "2018-07-01 07:00:00     53.27     10653.0     7            6      7  Summer  \n",
       "2018-07-01 07:00:00     55.21       774.0     7            6      7  Summer  "
      ]
     },
     "execution_count": 26,
     "metadata": {},
     "output_type": "execute_result"
    }
   ],
   "source": [
    "data.head()"
   ]
  },
  {
   "cell_type": "code",
   "execution_count": 24,
   "id": "4d9c8b07",
   "metadata": {},
   "outputs": [],
   "source": [
    "data.to_csv('data/preprocessed_and_cleaned_data.csv', index=True)"
   ]
  },
  {
   "cell_type": "markdown",
   "id": "f4b10fc1",
   "metadata": {},
   "source": [
    "# ENDED HERE\n",
    "___________________________________________________________________________________"
   ]
  }
 ],
 "metadata": {
  "kernelspec": {
   "display_name": "Python 3",
   "language": "python",
   "name": "python3"
  },
  "language_info": {
   "codemirror_mode": {
    "name": "ipython",
    "version": 3
   },
   "file_extension": ".py",
   "mimetype": "text/x-python",
   "name": "python",
   "nbconvert_exporter": "python",
   "pygments_lexer": "ipython3",
   "version": "3.10.12"
  }
 },
 "nbformat": 4,
 "nbformat_minor": 5
}
